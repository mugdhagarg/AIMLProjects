{
  "nbformat": 4,
  "nbformat_minor": 0,
  "metadata": {
    "colab": {
      "name": "NLP1.ipynb",
      "provenance": []
    },
    "kernelspec": {
      "name": "python3",
      "display_name": "Python 3"
    },
    "language_info": {
      "name": "python"
    }
  },
  "cells": [
    {
      "cell_type": "markdown",
      "metadata": {
        "id": "7V0ch30s9PC9"
      },
      "source": [
        "**PART 1 - Digital content management**"
      ]
    },
    {
      "cell_type": "code",
      "metadata": {
        "colab": {
          "base_uri": "https://localhost:8080/"
        },
        "id": "iKNGX1vr0ZoR",
        "outputId": "ebbff383-1856-4e0d-9148-53e9e86f1d35"
      },
      "source": [
        "from google.colab import drive\n",
        "drive.mount('/content/drive')"
      ],
      "execution_count": 2,
      "outputs": [
        {
          "output_type": "stream",
          "text": [
            "Drive already mounted at /content/drive; to attempt to forcibly remount, call drive.mount(\"/content/drive\", force_remount=True).\n"
          ],
          "name": "stdout"
        }
      ]
    },
    {
      "cell_type": "code",
      "metadata": {
        "id": "hNOsK6yI4Dmi"
      },
      "source": [
        "import pandas as pd\n",
        "\n",
        "df = pd.read_csv('/content/drive/My Drive/blogtext.csv')"
      ],
      "execution_count": 4,
      "outputs": []
    },
    {
      "cell_type": "code",
      "metadata": {
        "colab": {
          "base_uri": "https://localhost:8080/",
          "height": 203
        },
        "id": "eW-5x2XN4gvD",
        "outputId": "71009fe1-03f9-40d5-ac41-9adabee528ae"
      },
      "source": [
        "df.head()"
      ],
      "execution_count": 5,
      "outputs": [
        {
          "output_type": "execute_result",
          "data": {
            "text/html": [
              "<div>\n",
              "<style scoped>\n",
              "    .dataframe tbody tr th:only-of-type {\n",
              "        vertical-align: middle;\n",
              "    }\n",
              "\n",
              "    .dataframe tbody tr th {\n",
              "        vertical-align: top;\n",
              "    }\n",
              "\n",
              "    .dataframe thead th {\n",
              "        text-align: right;\n",
              "    }\n",
              "</style>\n",
              "<table border=\"1\" class=\"dataframe\">\n",
              "  <thead>\n",
              "    <tr style=\"text-align: right;\">\n",
              "      <th></th>\n",
              "      <th>id</th>\n",
              "      <th>gender</th>\n",
              "      <th>age</th>\n",
              "      <th>topic</th>\n",
              "      <th>sign</th>\n",
              "      <th>date</th>\n",
              "      <th>text</th>\n",
              "    </tr>\n",
              "  </thead>\n",
              "  <tbody>\n",
              "    <tr>\n",
              "      <th>0</th>\n",
              "      <td>2059027</td>\n",
              "      <td>male</td>\n",
              "      <td>15</td>\n",
              "      <td>Student</td>\n",
              "      <td>Leo</td>\n",
              "      <td>14,May,2004</td>\n",
              "      <td>Info has been found (+/- 100 pages,...</td>\n",
              "    </tr>\n",
              "    <tr>\n",
              "      <th>1</th>\n",
              "      <td>2059027</td>\n",
              "      <td>male</td>\n",
              "      <td>15</td>\n",
              "      <td>Student</td>\n",
              "      <td>Leo</td>\n",
              "      <td>13,May,2004</td>\n",
              "      <td>These are the team members:   Drewe...</td>\n",
              "    </tr>\n",
              "    <tr>\n",
              "      <th>2</th>\n",
              "      <td>2059027</td>\n",
              "      <td>male</td>\n",
              "      <td>15</td>\n",
              "      <td>Student</td>\n",
              "      <td>Leo</td>\n",
              "      <td>12,May,2004</td>\n",
              "      <td>In het kader van kernfusie op aarde...</td>\n",
              "    </tr>\n",
              "    <tr>\n",
              "      <th>3</th>\n",
              "      <td>2059027</td>\n",
              "      <td>male</td>\n",
              "      <td>15</td>\n",
              "      <td>Student</td>\n",
              "      <td>Leo</td>\n",
              "      <td>12,May,2004</td>\n",
              "      <td>testing!!!  testing!!!</td>\n",
              "    </tr>\n",
              "    <tr>\n",
              "      <th>4</th>\n",
              "      <td>3581210</td>\n",
              "      <td>male</td>\n",
              "      <td>33</td>\n",
              "      <td>InvestmentBanking</td>\n",
              "      <td>Aquarius</td>\n",
              "      <td>11,June,2004</td>\n",
              "      <td>Thanks to Yahoo!'s Toolbar I can ...</td>\n",
              "    </tr>\n",
              "  </tbody>\n",
              "</table>\n",
              "</div>"
            ],
            "text/plain": [
              "        id  ...                                               text\n",
              "0  2059027  ...             Info has been found (+/- 100 pages,...\n",
              "1  2059027  ...             These are the team members:   Drewe...\n",
              "2  2059027  ...             In het kader van kernfusie op aarde...\n",
              "3  2059027  ...                   testing!!!  testing!!!          \n",
              "4  3581210  ...               Thanks to Yahoo!'s Toolbar I can ...\n",
              "\n",
              "[5 rows x 7 columns]"
            ]
          },
          "metadata": {
            "tags": []
          },
          "execution_count": 5
        }
      ]
    },
    {
      "cell_type": "code",
      "metadata": {
        "id": "5pVbSM8g8Kx6"
      },
      "source": [
        "#using just 2000 samples as system kept crashing while training the classifier due to RAM issues\n",
        "df = df.head(2000)"
      ],
      "execution_count": 6,
      "outputs": []
    },
    {
      "cell_type": "code",
      "metadata": {
        "id": "RNMIzieJ4jjo"
      },
      "source": [
        "# convert to lowercase\n",
        "df.text = df.text.apply(lambda x: x.lower())"
      ],
      "execution_count": 7,
      "outputs": []
    },
    {
      "cell_type": "code",
      "metadata": {
        "colab": {
          "base_uri": "https://localhost:8080/"
        },
        "id": "btGeUbPq4mx0",
        "outputId": "1f9b69dd-27f5-4221-ff90-f5c7c15e8e75"
      },
      "source": [
        "# remove stopwords\n",
        "import nltk\n",
        "nltk.download('stopwords')\n",
        "from nltk.corpus import stopwords\n",
        "stopwords = set(stopwords.words('english'))\n",
        "df.text = df.text.apply(lambda x: ' '.join([text for text in x.split() if text not in stopwords]))"
      ],
      "execution_count": 8,
      "outputs": [
        {
          "output_type": "stream",
          "text": [
            "[nltk_data] Downloading package stopwords to /root/nltk_data...\n",
            "[nltk_data]   Package stopwords is already up-to-date!\n"
          ],
          "name": "stdout"
        }
      ]
    },
    {
      "cell_type": "code",
      "metadata": {
        "id": "HSk5mdFy4pYm"
      },
      "source": [
        "# create lable column according to problem statement\n",
        "df['labels'] = df.apply(lambda row: [row['gender'], str(row['age']), row['topic'], row['sign']], axis=1)"
      ],
      "execution_count": 9,
      "outputs": []
    },
    {
      "cell_type": "code",
      "metadata": {
        "colab": {
          "base_uri": "https://localhost:8080/",
          "height": 203
        },
        "id": "YAbRvPco4_n_",
        "outputId": "6aba98c6-086c-4e45-afc3-11c25a49e548"
      },
      "source": [
        "df.head()"
      ],
      "execution_count": 10,
      "outputs": [
        {
          "output_type": "execute_result",
          "data": {
            "text/html": [
              "<div>\n",
              "<style scoped>\n",
              "    .dataframe tbody tr th:only-of-type {\n",
              "        vertical-align: middle;\n",
              "    }\n",
              "\n",
              "    .dataframe tbody tr th {\n",
              "        vertical-align: top;\n",
              "    }\n",
              "\n",
              "    .dataframe thead th {\n",
              "        text-align: right;\n",
              "    }\n",
              "</style>\n",
              "<table border=\"1\" class=\"dataframe\">\n",
              "  <thead>\n",
              "    <tr style=\"text-align: right;\">\n",
              "      <th></th>\n",
              "      <th>id</th>\n",
              "      <th>gender</th>\n",
              "      <th>age</th>\n",
              "      <th>topic</th>\n",
              "      <th>sign</th>\n",
              "      <th>date</th>\n",
              "      <th>text</th>\n",
              "      <th>labels</th>\n",
              "    </tr>\n",
              "  </thead>\n",
              "  <tbody>\n",
              "    <tr>\n",
              "      <th>0</th>\n",
              "      <td>2059027</td>\n",
              "      <td>male</td>\n",
              "      <td>15</td>\n",
              "      <td>Student</td>\n",
              "      <td>Leo</td>\n",
              "      <td>14,May,2004</td>\n",
              "      <td>info found (+/- 100 pages, 4.5 mb .pdf files) ...</td>\n",
              "      <td>[male, 15, Student, Leo]</td>\n",
              "    </tr>\n",
              "    <tr>\n",
              "      <th>1</th>\n",
              "      <td>2059027</td>\n",
              "      <td>male</td>\n",
              "      <td>15</td>\n",
              "      <td>Student</td>\n",
              "      <td>Leo</td>\n",
              "      <td>13,May,2004</td>\n",
              "      <td>team members: drewes van der laag urllink mail...</td>\n",
              "      <td>[male, 15, Student, Leo]</td>\n",
              "    </tr>\n",
              "    <tr>\n",
              "      <th>2</th>\n",
              "      <td>2059027</td>\n",
              "      <td>male</td>\n",
              "      <td>15</td>\n",
              "      <td>Student</td>\n",
              "      <td>Leo</td>\n",
              "      <td>12,May,2004</td>\n",
              "      <td>het kader van kernfusie op aarde: maak je eige...</td>\n",
              "      <td>[male, 15, Student, Leo]</td>\n",
              "    </tr>\n",
              "    <tr>\n",
              "      <th>3</th>\n",
              "      <td>2059027</td>\n",
              "      <td>male</td>\n",
              "      <td>15</td>\n",
              "      <td>Student</td>\n",
              "      <td>Leo</td>\n",
              "      <td>12,May,2004</td>\n",
              "      <td>testing!!! testing!!!</td>\n",
              "      <td>[male, 15, Student, Leo]</td>\n",
              "    </tr>\n",
              "    <tr>\n",
              "      <th>4</th>\n",
              "      <td>3581210</td>\n",
              "      <td>male</td>\n",
              "      <td>33</td>\n",
              "      <td>InvestmentBanking</td>\n",
              "      <td>Aquarius</td>\n",
              "      <td>11,June,2004</td>\n",
              "      <td>thanks yahoo!'s toolbar 'capture' urls popups....</td>\n",
              "      <td>[male, 33, InvestmentBanking, Aquarius]</td>\n",
              "    </tr>\n",
              "  </tbody>\n",
              "</table>\n",
              "</div>"
            ],
            "text/plain": [
              "        id  ...                                   labels\n",
              "0  2059027  ...                 [male, 15, Student, Leo]\n",
              "1  2059027  ...                 [male, 15, Student, Leo]\n",
              "2  2059027  ...                 [male, 15, Student, Leo]\n",
              "3  2059027  ...                 [male, 15, Student, Leo]\n",
              "4  3581210  ...  [male, 33, InvestmentBanking, Aquarius]\n",
              "\n",
              "[5 rows x 8 columns]"
            ]
          },
          "metadata": {
            "tags": []
          },
          "execution_count": 10
        }
      ]
    },
    {
      "cell_type": "code",
      "metadata": {
        "id": "hIioZ0Z65GdO"
      },
      "source": [
        "df = df[['text','labels']]"
      ],
      "execution_count": 11,
      "outputs": []
    },
    {
      "cell_type": "code",
      "metadata": {
        "colab": {
          "base_uri": "https://localhost:8080/",
          "height": 203
        },
        "id": "Ju1jx1xh5L8V",
        "outputId": "63469458-6a36-4777-b23e-55e46ae517ea"
      },
      "source": [
        "df.head()"
      ],
      "execution_count": 12,
      "outputs": [
        {
          "output_type": "execute_result",
          "data": {
            "text/html": [
              "<div>\n",
              "<style scoped>\n",
              "    .dataframe tbody tr th:only-of-type {\n",
              "        vertical-align: middle;\n",
              "    }\n",
              "\n",
              "    .dataframe tbody tr th {\n",
              "        vertical-align: top;\n",
              "    }\n",
              "\n",
              "    .dataframe thead th {\n",
              "        text-align: right;\n",
              "    }\n",
              "</style>\n",
              "<table border=\"1\" class=\"dataframe\">\n",
              "  <thead>\n",
              "    <tr style=\"text-align: right;\">\n",
              "      <th></th>\n",
              "      <th>text</th>\n",
              "      <th>labels</th>\n",
              "    </tr>\n",
              "  </thead>\n",
              "  <tbody>\n",
              "    <tr>\n",
              "      <th>0</th>\n",
              "      <td>info found (+/- 100 pages, 4.5 mb .pdf files) ...</td>\n",
              "      <td>[male, 15, Student, Leo]</td>\n",
              "    </tr>\n",
              "    <tr>\n",
              "      <th>1</th>\n",
              "      <td>team members: drewes van der laag urllink mail...</td>\n",
              "      <td>[male, 15, Student, Leo]</td>\n",
              "    </tr>\n",
              "    <tr>\n",
              "      <th>2</th>\n",
              "      <td>het kader van kernfusie op aarde: maak je eige...</td>\n",
              "      <td>[male, 15, Student, Leo]</td>\n",
              "    </tr>\n",
              "    <tr>\n",
              "      <th>3</th>\n",
              "      <td>testing!!! testing!!!</td>\n",
              "      <td>[male, 15, Student, Leo]</td>\n",
              "    </tr>\n",
              "    <tr>\n",
              "      <th>4</th>\n",
              "      <td>thanks yahoo!'s toolbar 'capture' urls popups....</td>\n",
              "      <td>[male, 33, InvestmentBanking, Aquarius]</td>\n",
              "    </tr>\n",
              "  </tbody>\n",
              "</table>\n",
              "</div>"
            ],
            "text/plain": [
              "                                                text                                   labels\n",
              "0  info found (+/- 100 pages, 4.5 mb .pdf files) ...                 [male, 15, Student, Leo]\n",
              "1  team members: drewes van der laag urllink mail...                 [male, 15, Student, Leo]\n",
              "2  het kader van kernfusie op aarde: maak je eige...                 [male, 15, Student, Leo]\n",
              "3                              testing!!! testing!!!                 [male, 15, Student, Leo]\n",
              "4  thanks yahoo!'s toolbar 'capture' urls popups....  [male, 33, InvestmentBanking, Aquarius]"
            ]
          },
          "metadata": {
            "tags": []
          },
          "execution_count": 12
        }
      ]
    },
    {
      "cell_type": "code",
      "metadata": {
        "id": "bnaJwLUO5QZe"
      },
      "source": [
        "#split into test and train\n",
        "from sklearn.model_selection import train_test_split\n",
        "X_train, X_test, y_train, y_test = train_test_split(df.text.values, df.labels.values, test_size=0.20, random_state=42)"
      ],
      "execution_count": 13,
      "outputs": []
    },
    {
      "cell_type": "code",
      "metadata": {
        "id": "WcfvHZKM6RII"
      },
      "source": [
        "from sklearn.feature_extraction.text import CountVectorizer\n",
        "vectorizer = CountVectorizer(binary=True, ngram_range=(1, 2))\n",
        "X_train_words = vectorizer.fit_transform(X_train)\n",
        "X_test_words = vectorizer.transform(X_test)"
      ],
      "execution_count": 14,
      "outputs": []
    },
    {
      "cell_type": "code",
      "metadata": {
        "colab": {
          "base_uri": "https://localhost:8080/"
        },
        "id": "ElC2onut6VVq",
        "outputId": "88d9188d-91f2-4fbd-8d3b-976cb19ab5fc"
      },
      "source": [
        "X_train_words.toarray()"
      ],
      "execution_count": 15,
      "outputs": [
        {
          "output_type": "execute_result",
          "data": {
            "text/plain": [
              "array([[0, 0, 0, ..., 0, 0, 0],\n",
              "       [0, 0, 0, ..., 0, 0, 0],\n",
              "       [1, 1, 0, ..., 0, 0, 0],\n",
              "       ...,\n",
              "       [0, 0, 0, ..., 0, 0, 0],\n",
              "       [0, 0, 0, ..., 0, 0, 0],\n",
              "       [0, 0, 0, ..., 0, 0, 0]])"
            ]
          },
          "metadata": {
            "tags": []
          },
          "execution_count": 15
        }
      ]
    },
    {
      "cell_type": "code",
      "metadata": {
        "id": "F-mKLd_67wk_"
      },
      "source": [
        "label_counts = dict()\n",
        "\n",
        "for labels in df.labels.values:\n",
        "    for label in labels:\n",
        "        if label in label_counts:\n",
        "            label_counts[label] += 1\n",
        "        else:\n",
        "            label_counts[label] = 1"
      ],
      "execution_count": 16,
      "outputs": []
    },
    {
      "cell_type": "code",
      "metadata": {
        "id": "R58-Mocu7yuZ"
      },
      "source": [
        "from sklearn.preprocessing import MultiLabelBinarizer\n",
        "mlb = MultiLabelBinarizer(classes=sorted(label_counts.keys()))\n",
        "y_train = mlb.fit_transform(y_train)\n",
        "y_test = mlb.transform(y_test)"
      ],
      "execution_count": 17,
      "outputs": []
    },
    {
      "cell_type": "code",
      "metadata": {
        "id": "TZbQz3VV8cMV"
      },
      "source": [
        "from sklearn.multiclass import OneVsRestClassifier\n",
        "from sklearn.linear_model import LogisticRegression\n",
        "clf = LogisticRegression(solver='lbfgs')\n",
        "clf = OneVsRestClassifier(clf)"
      ],
      "execution_count": 18,
      "outputs": []
    },
    {
      "cell_type": "code",
      "metadata": {
        "colab": {
          "base_uri": "https://localhost:8080/"
        },
        "id": "L7v9RhjY8f6s",
        "outputId": "b9d8f95e-babf-4e8c-f0c5-fc273a0ffde4"
      },
      "source": [
        "clf.fit(X_train_words, y_train)"
      ],
      "execution_count": 19,
      "outputs": [
        {
          "output_type": "execute_result",
          "data": {
            "text/plain": [
              "OneVsRestClassifier(estimator=LogisticRegression(C=1.0, class_weight=None,\n",
              "                                                 dual=False, fit_intercept=True,\n",
              "                                                 intercept_scaling=1,\n",
              "                                                 l1_ratio=None, max_iter=100,\n",
              "                                                 multi_class='auto',\n",
              "                                                 n_jobs=None, penalty='l2',\n",
              "                                                 random_state=None,\n",
              "                                                 solver='lbfgs', tol=0.0001,\n",
              "                                                 verbose=0, warm_start=False),\n",
              "                    n_jobs=None)"
            ]
          },
          "metadata": {
            "tags": []
          },
          "execution_count": 19
        }
      ]
    },
    {
      "cell_type": "code",
      "metadata": {
        "id": "qAQUZ_Fu8iOV"
      },
      "source": [
        "predicted_labels = clf.predict(X_test_words)\n",
        "predicted_scores = clf.decision_function(X_test_words)"
      ],
      "execution_count": 20,
      "outputs": []
    },
    {
      "cell_type": "code",
      "metadata": {
        "colab": {
          "base_uri": "https://localhost:8080/"
        },
        "id": "zhXreBcH8_jy",
        "outputId": "a5690b49-9b33-428b-f8c8-4c20df5ed4e3"
      },
      "source": [
        "predicted_labels"
      ],
      "execution_count": 21,
      "outputs": [
        {
          "output_type": "execute_result",
          "data": {
            "text/plain": [
              "array([[0, 0, 0, ..., 0, 0, 1],\n",
              "       [0, 0, 0, ..., 0, 0, 1],\n",
              "       [0, 1, 0, ..., 1, 1, 0],\n",
              "       ...,\n",
              "       [0, 0, 0, ..., 0, 0, 1],\n",
              "       [0, 0, 0, ..., 0, 0, 1],\n",
              "       [0, 0, 0, ..., 1, 1, 0]])"
            ]
          },
          "metadata": {
            "tags": []
          },
          "execution_count": 21
        }
      ]
    },
    {
      "cell_type": "code",
      "metadata": {
        "id": "bKurRCCO9BlF"
      },
      "source": [
        "#inverse transform\n",
        "pred_inversed = mlb.inverse_transform(predicted_labels)\n",
        "y_test_inversed = mlb.inverse_transform(y_test)"
      ],
      "execution_count": 22,
      "outputs": []
    },
    {
      "cell_type": "code",
      "metadata": {
        "colab": {
          "base_uri": "https://localhost:8080/"
        },
        "id": "GeK2QRAg9LR3",
        "outputId": "afeb3aff-aad5-4c09-f68a-ed3257874b1d"
      },
      "source": [
        "pred_inversed"
      ],
      "execution_count": 23,
      "outputs": [
        {
          "output_type": "execute_result",
          "data": {
            "text/plain": [
              "[('35', 'Aries', 'Technology', 'male'),\n",
              " ('male',),\n",
              " ('15', 'female', 'indUnk'),\n",
              " ('male',),\n",
              " ('male',),\n",
              " ('35', 'Aries', 'Technology', 'male'),\n",
              " ('male',),\n",
              " ('male',),\n",
              " ('Aquarius', 'InvestmentBanking', 'female'),\n",
              " ('female',),\n",
              " ('33', 'Aquarius', 'InvestmentBanking', 'male'),\n",
              " ('male',),\n",
              " ('15', 'Libra', 'Student', 'female'),\n",
              " ('24', 'male'),\n",
              " ('female',),\n",
              " ('female', 'indUnk'),\n",
              " ('male',),\n",
              " ('Aries', 'female'),\n",
              " ('35', 'Aries', 'Technology', 'male'),\n",
              " ('35', 'Aries', 'Technology', 'male'),\n",
              " ('male',),\n",
              " ('35', 'Aries', 'Technology', 'male'),\n",
              " ('35', 'Aries', 'Technology', 'male'),\n",
              " ('15', 'Libra', 'Student', 'female'),\n",
              " ('male',),\n",
              " ('male',),\n",
              " ('female', 'indUnk'),\n",
              " ('male',),\n",
              " ('male',),\n",
              " ('male',),\n",
              " ('male',),\n",
              " ('male',),\n",
              " ('male',),\n",
              " ('35', 'Aries', 'Technology', 'male'),\n",
              " ('male',),\n",
              " ('male',),\n",
              " ('Aries', 'female'),\n",
              " ('male',),\n",
              " ('15', 'Libra', 'Student', 'female'),\n",
              " ('male',),\n",
              " ('Student', 'female'),\n",
              " ('male',),\n",
              " ('male',),\n",
              " ('Aries', 'male'),\n",
              " ('35', 'Aries', 'Technology', 'male'),\n",
              " ('17', 'male'),\n",
              " ('Aries', 'male'),\n",
              " ('male',),\n",
              " ('33', 'Aquarius', 'InvestmentBanking', 'male'),\n",
              " ('35', 'Aries', 'Technology', 'male'),\n",
              " ('35', 'Aries', 'Technology', 'male'),\n",
              " ('35', 'Aries', 'Technology', 'male'),\n",
              " ('35', 'Aries', 'Technology', 'male'),\n",
              " ('female',),\n",
              " ('17', 'Capricorn', 'Sports-Recreation', 'male'),\n",
              " ('35', 'Aries', 'Technology', 'male'),\n",
              " ('35', 'Aries', 'Technology', 'male'),\n",
              " ('35', 'Aries', 'Technology', 'male'),\n",
              " ('female',),\n",
              " ('female',),\n",
              " ('35', 'Aries', 'Technology', 'male'),\n",
              " ('Libra', 'male'),\n",
              " ('35', 'Aries', 'Technology', 'male'),\n",
              " ('male',),\n",
              " ('male',),\n",
              " ('35', 'Aries', 'Technology', 'male'),\n",
              " ('female',),\n",
              " ('35', 'Aries', 'Technology', 'male'),\n",
              " ('Aries', 'Student', 'female'),\n",
              " ('35', 'Aries', 'Technology', 'male'),\n",
              " ('35', 'Aries', 'Technology', 'male'),\n",
              " ('35', 'Aries', 'Technology', 'male'),\n",
              " ('male',),\n",
              " ('35', 'Aries', 'Technology', 'male'),\n",
              " ('24', 'BusinessServices', 'Cancer', 'male'),\n",
              " ('24', 'Scorpio', 'female', 'indUnk'),\n",
              " ('35', 'Aries', 'Technology', 'male'),\n",
              " ('male',),\n",
              " ('male',),\n",
              " ('35', 'Aries', 'Technology', 'male'),\n",
              " ('Aquarius', 'male'),\n",
              " ('male',),\n",
              " ('35', 'Aries', 'Technology', 'male'),\n",
              " ('male',),\n",
              " ('35', 'Aries', 'Technology', 'male'),\n",
              " ('35', 'Aries', 'Technology', 'male'),\n",
              " ('35', 'Aries', 'Technology', 'male'),\n",
              " ('Aquarius', 'Libra', 'female'),\n",
              " ('male',),\n",
              " ('35', 'Aries', 'Technology', 'male'),\n",
              " ('35', 'Aries', 'Technology', 'male'),\n",
              " ('35', 'Aries', 'Technology', 'male'),\n",
              " ('female', 'indUnk'),\n",
              " ('24', 'Scorpio', 'female', 'indUnk'),\n",
              " ('35', 'Aries', 'Technology', 'male'),\n",
              " ('35', 'Aries', 'Technology', 'male'),\n",
              " ('male',),\n",
              " ('35', 'Aries', 'Technology', 'male'),\n",
              " ('35', 'Aries', 'Technology', 'male'),\n",
              " ('35', 'Aries', 'Technology', 'male'),\n",
              " ('17', 'Capricorn', 'male'),\n",
              " ('male',),\n",
              " ('female',),\n",
              " ('female',),\n",
              " ('male',),\n",
              " ('17', 'Student', 'male'),\n",
              " ('Libra', 'female', 'indUnk'),\n",
              " ('Aries', 'male'),\n",
              " ('male',),\n",
              " ('female',),\n",
              " ('male',),\n",
              " ('35', 'Aries', 'Technology', 'male'),\n",
              " ('Student', 'female'),\n",
              " ('35', 'Aries', 'Technology', 'male'),\n",
              " ('male',),\n",
              " ('24', 'Scorpio', 'female', 'indUnk'),\n",
              " ('15', 'Libra', 'Student', 'female'),\n",
              " ('male',),\n",
              " ('female', 'indUnk'),\n",
              " ('35', 'Aries', 'Technology', 'male'),\n",
              " ('35', 'Aries', 'Technology', 'male'),\n",
              " ('15', 'Student', 'female'),\n",
              " ('Libra', 'female'),\n",
              " ('male',),\n",
              " ('35', 'Aries', 'Technology', 'male'),\n",
              " ('35', 'Aries', 'Technology', 'male'),\n",
              " ('male',),\n",
              " ('17', 'Capricorn', 'Sports-Recreation', 'male'),\n",
              " ('male',),\n",
              " ('24', 'Scorpio', 'female', 'indUnk'),\n",
              " ('35', 'Aries', 'Technology', 'male'),\n",
              " ('35', 'Aries', 'Technology', 'male'),\n",
              " ('male',),\n",
              " ('Student', 'female'),\n",
              " ('male',),\n",
              " ('35', 'Aries', 'Technology', 'male'),\n",
              " ('35', 'Aries', 'Technology', 'male'),\n",
              " ('35', 'Aries', 'Technology', 'male'),\n",
              " ('male',),\n",
              " ('35', 'Aries', 'Technology', 'male'),\n",
              " ('male',),\n",
              " ('male',),\n",
              " ('35', 'Aries', 'Technology', 'male'),\n",
              " ('male',),\n",
              " ('35', 'Aries', 'Technology', 'male'),\n",
              " ('35', 'Aries', 'Technology', 'male'),\n",
              " ('Engineering', 'Libra', 'male'),\n",
              " ('male',),\n",
              " ('35', 'Aries', 'Technology', 'male'),\n",
              " ('Aries', 'male'),\n",
              " ('35', 'Aries', 'Technology', 'male'),\n",
              " ('male',),\n",
              " ('male',),\n",
              " ('male',),\n",
              " ('male',),\n",
              " ('male',),\n",
              " ('27', 'Aquarius', 'Education', 'female'),\n",
              " ('35', 'Aries', 'Technology', 'male'),\n",
              " ('Aries', 'male'),\n",
              " ('35', 'Aries', 'Technology', 'male'),\n",
              " ('24', 'Libra', 'female'),\n",
              " ('male',),\n",
              " ('Student', 'female'),\n",
              " ('35', 'Aries', 'Technology', 'male'),\n",
              " ('35', 'Aries', 'Technology', 'male'),\n",
              " ('35', 'Aries', 'Technology', 'male'),\n",
              " ('35', 'Aries', 'Technology', 'male'),\n",
              " ('15', 'Aquarius', 'Student', 'female'),\n",
              " ('female',),\n",
              " ('35', 'Aries', 'Technology', 'male'),\n",
              " ('35', 'Aries', 'Technology', 'male'),\n",
              " ('24', 'Libra', 'male'),\n",
              " ('35', 'Aries', 'Technology', 'male'),\n",
              " ('35', 'Aries', 'Technology', 'male'),\n",
              " ('24', 'female', 'indUnk'),\n",
              " ('Aries', 'female', 'indUnk'),\n",
              " ('male',),\n",
              " ('Student', 'male'),\n",
              " ('male',),\n",
              " ('35', 'Aries', 'Technology', 'male'),\n",
              " ('male',),\n",
              " ('female',),\n",
              " ('35', 'Aries', 'Technology', 'male'),\n",
              " ('male',),\n",
              " ('Student', 'female'),\n",
              " ('male',),\n",
              " ('35', 'Aries', 'Technology', 'male'),\n",
              " ('35', 'Aries', 'Technology', 'male'),\n",
              " ('male',),\n",
              " ('female',),\n",
              " ('male',),\n",
              " ('female',),\n",
              " ('35', 'Aries', 'Technology', 'male'),\n",
              " ('Aquarius', 'Student', 'male'),\n",
              " ('33', 'Aquarius', 'InvestmentBanking', 'male'),\n",
              " ('Scorpio', 'female', 'indUnk'),\n",
              " ('male',),\n",
              " ('17', 'Capricorn', 'Sports-Recreation', 'male'),\n",
              " ('35', 'Aries', 'Technology', 'male'),\n",
              " ('35', 'Aries', 'Technology', 'male'),\n",
              " ('35', 'Aries', 'Technology', 'male'),\n",
              " ('24', 'female'),\n",
              " ('Aries', 'male'),\n",
              " ('35', 'Aries', 'Technology', 'male'),\n",
              " ('35', 'Aries', 'Technology', 'male'),\n",
              " ('35', 'Aries', 'Technology', 'male'),\n",
              " ('35', 'Aries', 'Technology', 'male'),\n",
              " ('Student', 'female'),\n",
              " ('15', 'Libra', 'Student', 'female'),\n",
              " ('female',),\n",
              " ('35', 'Aries', 'Technology', 'male'),\n",
              " ('33', 'Aquarius', 'InvestmentBanking', 'male'),\n",
              " ('female',),\n",
              " ('Aquarius', 'female'),\n",
              " ('15', 'male'),\n",
              " ('35', 'Aries', 'Technology', 'male'),\n",
              " ('15', 'Libra', 'Student', 'female'),\n",
              " ('24', 'Scorpio', 'female', 'indUnk'),\n",
              " ('female',),\n",
              " ('15', 'Aquarius', 'Student', 'female'),\n",
              " ('male',),\n",
              " ('35', 'Aries', 'Technology', 'male'),\n",
              " ('35', 'Aries', 'Technology', 'male'),\n",
              " ('15', 'Libra', 'Student', 'female'),\n",
              " ('35', 'Aries', 'Technology', 'male'),\n",
              " ('35', 'Aries', 'Technology', 'male'),\n",
              " ('male',),\n",
              " ('female',),\n",
              " ('35', 'Aries', 'Technology', 'male'),\n",
              " ('male',),\n",
              " ('35', 'Aries', 'Technology', 'male'),\n",
              " ('35', 'Aries', 'Technology', 'male'),\n",
              " ('Aries', 'male'),\n",
              " ('35', 'Aries', 'Technology', 'male'),\n",
              " ('35', 'Aries', 'Technology', 'male'),\n",
              " ('female',),\n",
              " ('Student', 'female'),\n",
              " ('17', 'Capricorn', 'Sports-Recreation', 'male'),\n",
              " ('male',),\n",
              " ('male',),\n",
              " ('male',),\n",
              " ('35', 'Aries', 'Technology', 'male'),\n",
              " ('female',),\n",
              " ('17', 'male'),\n",
              " ('male',),\n",
              " ('17', 'Aries', 'Student', 'female'),\n",
              " ('Aries', 'male'),\n",
              " ('35', 'Aries', 'Technology', 'male'),\n",
              " ('male',),\n",
              " ('male',),\n",
              " ('female',),\n",
              " ('24', 'Scorpio', 'female', 'indUnk'),\n",
              " ('female',),\n",
              " ('female',),\n",
              " ('35', 'Aries', 'Technology', 'male'),\n",
              " ('15', 'Libra', 'Student', 'male'),\n",
              " ('male',),\n",
              " ('male',),\n",
              " ('male',),\n",
              " ('female',),\n",
              " ('female',),\n",
              " ('35', 'Aries', 'Technology', 'male'),\n",
              " ('male',),\n",
              " ('35', 'Aries', 'Technology', 'male'),\n",
              " ('Student', 'female'),\n",
              " ('35', 'Aries', 'Technology', 'male'),\n",
              " ('24', 'Scorpio', 'female'),\n",
              " ('35', 'Technology', 'male'),\n",
              " ('female',),\n",
              " ('15', 'Libra', 'Student', 'female'),\n",
              " ('female',),\n",
              " ('female',),\n",
              " ('male',),\n",
              " ('35', 'Aries', 'Technology', 'male'),\n",
              " ('35', 'Aries', 'Technology', 'male'),\n",
              " ('35', 'Aries', 'Technology', 'male'),\n",
              " ('24', 'Engineering', 'Libra', 'male'),\n",
              " ('male',),\n",
              " ('male',),\n",
              " ('Aquarius', 'Student', 'female'),\n",
              " ('35', 'Aries', 'Technology', 'male'),\n",
              " ('35', 'Aries', 'Technology', 'male'),\n",
              " ('Libra', 'male'),\n",
              " ('female',),\n",
              " ('male',),\n",
              " ('Aquarius', 'male'),\n",
              " ('male',),\n",
              " ('35', 'Aries', 'Technology', 'male'),\n",
              " ('33', 'Aquarius', 'InvestmentBanking', 'male'),\n",
              " ('male',),\n",
              " ('Student', 'female'),\n",
              " ('35', 'Aries', 'Technology', 'male'),\n",
              " ('35', 'Aries', 'Technology', 'male'),\n",
              " ('35', 'Aries', 'Technology', 'male'),\n",
              " ('Libra', 'male'),\n",
              " ('Aries', 'male'),\n",
              " ('33', 'Aquarius', 'male'),\n",
              " ('35', 'Aries', 'Technology', 'male'),\n",
              " ('Aries', 'male'),\n",
              " ('male',),\n",
              " ('24', 'Engineering', 'Libra', 'male'),\n",
              " ('Aries', 'male'),\n",
              " ('35', 'Aries', 'Technology', 'male'),\n",
              " ('35', 'Aries', 'Technology', 'male'),\n",
              " ('indUnk', 'male'),\n",
              " ('35', 'Aries', 'Technology', 'male'),\n",
              " ('Libra', 'female'),\n",
              " ('15', 'male'),\n",
              " ('Scorpio', 'Student', 'male'),\n",
              " ('male',),\n",
              " ('15', 'Libra', 'Student', 'female'),\n",
              " ('35', 'Aries', 'Technology', 'male'),\n",
              " ('female',),\n",
              " ('male',),\n",
              " ('15', 'Libra', 'Student', 'female'),\n",
              " ('female',),\n",
              " ('35', 'Aries', 'Technology', 'male'),\n",
              " ('35', 'Aries', 'Technology', 'male'),\n",
              " ('35', 'Aries', 'Technology', 'male'),\n",
              " ('35', 'Aries', 'Technology', 'male'),\n",
              " ('Aquarius', 'male'),\n",
              " ('35', 'Aries', 'Technology', 'male'),\n",
              " ('male',),\n",
              " ('female',),\n",
              " ('male',),\n",
              " ('female',),\n",
              " ('35', 'Aries', 'Technology', 'male'),\n",
              " ('male',),\n",
              " ('35', 'Aries', 'Technology', 'male'),\n",
              " ('24', 'BusinessServices', 'Cancer', 'male'),\n",
              " ('male',),\n",
              " ('Libra', 'male'),\n",
              " ('35', 'Aries', 'Technology', 'male'),\n",
              " ('male',),\n",
              " ('male',),\n",
              " ('male',),\n",
              " ('male',),\n",
              " ('female',),\n",
              " ('Libra', 'Student', 'female'),\n",
              " ('male',),\n",
              " ('35', 'Aries', 'Technology', 'male'),\n",
              " ('24', 'female'),\n",
              " ('male',),\n",
              " ('Aries', 'male'),\n",
              " ('male',),\n",
              " ('male',),\n",
              " ('24', 'female'),\n",
              " ('35', 'Aries', 'Technology', 'male'),\n",
              " ('male',),\n",
              " ('35', 'Aries', 'Technology', 'male'),\n",
              " ('male',),\n",
              " ('male',),\n",
              " ('male',),\n",
              " ('35', 'Aries', 'Technology', 'male'),\n",
              " ('17', 'Student', 'female'),\n",
              " ('35', 'Aries', 'Technology', 'male'),\n",
              " ('35', 'Aries', 'Technology', 'male'),\n",
              " ('Aries', 'male'),\n",
              " ('male',),\n",
              " ('15', 'Libra', 'Student', 'female'),\n",
              " ('male',),\n",
              " ('female', 'indUnk'),\n",
              " ('Student', 'female'),\n",
              " ('female',),\n",
              " ('male',),\n",
              " ('24', 'Scorpio', 'female', 'indUnk'),\n",
              " ('Aries', 'male'),\n",
              " ('24', 'Scorpio', 'female', 'indUnk'),\n",
              " ('male',),\n",
              " ('indUnk', 'male'),\n",
              " ('35', 'Aries', 'Technology', 'male'),\n",
              " ('35', 'Aries', 'Technology', 'male'),\n",
              " ('33', 'Aquarius', 'InvestmentBanking', 'male'),\n",
              " ('35', 'Aries', 'Technology', 'male'),\n",
              " ('35', 'Aries', 'Technology', 'male'),\n",
              " ('male',),\n",
              " ('male',),\n",
              " ('35', 'Aries', 'Technology', 'male'),\n",
              " ('35', 'Aries', 'Technology', 'male'),\n",
              " ('35', 'Aries', 'Technology', 'male'),\n",
              " ('Aries', 'male'),\n",
              " ('male',),\n",
              " ('male',),\n",
              " ('female',),\n",
              " ('35', 'Aries', 'Technology', 'male'),\n",
              " ('24', 'BusinessServices', 'Cancer', 'male'),\n",
              " ('Aquarius', 'female', 'indUnk'),\n",
              " ('male',),\n",
              " ('Aries', 'male'),\n",
              " ('35', 'Aries', 'Technology', 'male'),\n",
              " ('35', 'Aries', 'Technology', 'male'),\n",
              " ('35', 'Aries', 'Technology', 'male'),\n",
              " ('24', 'indUnk', 'male'),\n",
              " ('female',),\n",
              " ('female',),\n",
              " ('male',),\n",
              " ('35', 'Aries', 'Technology', 'male'),\n",
              " ('35', 'Aries', 'Technology', 'male'),\n",
              " ('male',),\n",
              " ('female', 'indUnk')]"
            ]
          },
          "metadata": {
            "tags": []
          },
          "execution_count": 23
        }
      ]
    },
    {
      "cell_type": "markdown",
      "metadata": {
        "id": "eChh_q0G9VlO"
      },
      "source": [
        "**PART 2 - Customer Support**"
      ]
    },
    {
      "cell_type": "code",
      "metadata": {
        "id": "t7EPXEYn9XiR"
      },
      "source": [
        "from sklearn.feature_extraction.text import TfidfVectorizer\n",
        "from sklearn.metrics.pairwise import cosine_similarity"
      ],
      "execution_count": 24,
      "outputs": []
    },
    {
      "cell_type": "code",
      "metadata": {
        "colab": {
          "base_uri": "https://localhost:8080/"
        },
        "id": "CYyNqXaI-yfr",
        "outputId": "69126c10-8447-4ce7-d332-2d8b0d5842f1"
      },
      "source": [
        "import nltk\n",
        "from nltk.stem import WordNetLemmatizer\n",
        "nltk.download('popular', quiet=True)"
      ],
      "execution_count": 25,
      "outputs": [
        {
          "output_type": "execute_result",
          "data": {
            "text/plain": [
              "True"
            ]
          },
          "metadata": {
            "tags": []
          },
          "execution_count": 25
        }
      ]
    },
    {
      "cell_type": "code",
      "metadata": {
        "colab": {
          "base_uri": "https://localhost:8080/"
        },
        "id": "RjS0vCwd-1cY",
        "outputId": "10d3acf7-aab5-4c7b-c328-06ab66f4f9c3"
      },
      "source": [
        "#read corpus\n",
        "import json\n",
        "\n",
        "with open('/content/drive/My Drive/GL Bot.json') as file:\n",
        "    Corpus = json.load(file)\n",
        "\n",
        "print(Corpus)"
      ],
      "execution_count": 27,
      "outputs": [
        {
          "output_type": "stream",
          "text": [
            "{'intents': [{'tag': 'Intro', 'patterns': ['hi', 'how are you', 'is anyone there', 'hello', 'whats up', 'hey', 'yo', 'listen', 'please help me', 'i am learner from', 'i belong to', 'aiml batch', 'aifl batch', 'i am from', 'my pm is', 'blended', 'online', 'i am from', 'hey ya', 'talking to you for first time'], 'responses': ['Hello! how can i help you ?'], 'context_set': ''}, {'tag': 'Exit', 'patterns': ['thank you', 'thanks', 'cya', 'see you', 'later', 'see you later', 'goodbye', 'i am leaving', 'have a Good day', 'you helped me', 'thanks a lot', 'thanks a ton', 'you are the best', 'great help', 'too good', 'you are a good learning buddy'], 'responses': ['I hope I was able to assist you, Good Bye'], 'context_set': ''}, {'tag': 'Olympus', 'patterns': ['olympus', 'explain me how olympus works', 'I am not able to understand olympus', 'olympus window not working', 'no access to olympus', 'unable to see link in olympus', 'no link visible on olympus', 'whom to contact for olympus', 'lot of problem with olympus', 'olypus is not a good tool', 'lot of problems with olympus', 'how to use olympus', 'teach me olympus'], 'responses': ['Link: Olympus wiki'], 'context_set': ''}, {'tag': 'SL', 'patterns': ['i am not able to understand svm', 'explain me how machine learning works', 'i am not able to understand naive bayes', 'i am not able to understand logistic regression', 'i am not able to understand ensemble techb=niques', 'i am not able to understand knn', 'i am not able to understand knn imputer', 'i am not able to understand cross validation', 'i am not able to understand boosting', 'i am not able to understand random forest', 'i am not able to understand ada boosting', 'i am not able to understand gradient boosting', 'machine learning', 'ML', 'SL', 'supervised learning', 'knn', 'logistic regression', 'regression', 'classification', 'naive bayes', 'nb', 'ensemble techniques', 'bagging', 'boosting', 'ada boosting', 'ada', 'gradient boosting', 'hyper parameters'], 'responses': ['Link: Machine Learning wiki '], 'context_set': ''}, {'tag': 'NN', 'patterns': ['what is deep learning', 'unable to understand deep learning', 'explain me how deep learning works', 'i am not able to understand deep learning', 'not able to understand neural nets', 'very diffult to understand neural nets', 'unable to understand neural nets', 'ann', 'artificial intelligence', 'artificial neural networks', 'weights', 'activation function', 'hidden layers', 'softmax', 'sigmoid', 'relu', 'otimizer', 'forward propagation', 'backward propagation', 'epochs', 'epoch', 'what is an epoch', 'adam', 'sgd'], 'responses': ['Link: Neural Nets wiki'], 'context_set': ''}, {'tag': 'Bot', 'patterns': ['what is your name', 'who are you', 'name please', 'when are your hours of opertions', 'what are your working hours', 'hours of operation', 'working hours', 'hours'], 'responses': ['I am your virtual learning assistant'], 'context_set': ''}, {'tag': 'Profane', 'patterns': ['what the hell', 'bloody stupid bot', 'do you think you are very smart', 'screw you', 'i hate you', 'you are stupid', 'jerk', 'you are a joke', 'useless piece of shit'], 'responses': ['Please use respectful words'], 'context_set': ''}, {'tag': 'Ticket', 'patterns': ['my problem is not solved', 'you did not help me', 'not a good solution', 'bad solution', 'not good solution', 'no help', 'wasted my time', 'useless bot', 'create a ticket'], 'responses': ['Tarnsferring the request to your PM'], 'context_set': ''}]}\n"
          ],
          "name": "stdout"
        }
      ]
    },
    {
      "cell_type": "code",
      "metadata": {
        "id": "rsUrnzN5-9Dz"
      },
      "source": [
        "# tokenize \n",
        "tokens = [] \n",
        "labels = [] \n",
        "token_words = [] \n",
        "token_labels = [] \n",
        "\n",
        "for intent in Corpus['intents']:\n",
        "    for pattern in intent['patterns']:\n",
        "        w_temp = nltk.word_tokenize(pattern)\n",
        "        tokens.extend(w_temp)\n",
        "        token_words.append(w_temp)\n",
        "        token_labels.append(intent[\"tag\"])\n",
        "    \n",
        "    # Add the mising tag if any    \n",
        "    if intent['tag'] not in labels:\n",
        "        labels.append(intent['tag'])"
      ],
      "execution_count": 51,
      "outputs": []
    },
    {
      "cell_type": "code",
      "metadata": {
        "colab": {
          "base_uri": "https://localhost:8080/"
        },
        "id": "Zwz2f731CZbe",
        "outputId": "a902c7c2-ea59-4eea-b94a-c594b0021de0"
      },
      "source": [
        "labels"
      ],
      "execution_count": 52,
      "outputs": [
        {
          "output_type": "execute_result",
          "data": {
            "text/plain": [
              "['Intro', 'Exit', 'Olympus', 'SL', 'NN', 'Bot', 'Profane', 'Ticket']"
            ]
          },
          "metadata": {
            "tags": []
          },
          "execution_count": 52
        }
      ]
    },
    {
      "cell_type": "code",
      "metadata": {
        "id": "RGlacGuEA70d"
      },
      "source": [
        "from nltk.stem.lancaster import LancasterStemmer\n",
        "stemmer = LancasterStemmer() \n",
        "Train = [] \n",
        "Target = []\n",
        "\n",
        "out_empty = [0 for i in range(len(labels))]\n",
        "\n",
        "for x, doc in enumerate(token_words):\n",
        "    bag = []\n",
        "\n",
        "    w_temp = [stemmer.stem(w.lower()) for w in doc]\n",
        "\n",
        "    for w in tokens:\n",
        "        if w in w_temp:\n",
        "            bag.append(1)\n",
        "        else:\n",
        "            bag.append(0)\n",
        "\n",
        "    output_row = out_empty[:]\n",
        "    output_row[labels.index(token_labels[x])] = 1\n",
        "\n",
        "    Train.append(bag) # List\n",
        "    Target.append(output_row) # List"
      ],
      "execution_count": 53,
      "outputs": []
    },
    {
      "cell_type": "code",
      "metadata": {
        "id": "BvGkb6FnDqXl"
      },
      "source": [
        "import numpy as np\n",
        "Train = np.array(Train)\n",
        "Target = np.array(Target)"
      ],
      "execution_count": 56,
      "outputs": []
    },
    {
      "cell_type": "code",
      "metadata": {
        "id": "5Qv1rt3CETEi"
      },
      "source": [
        "X_train_part2, X_test_part2, y_train_part2, y_test_part2 = train_test_split(Train, Target, test_size=0.25, random_state=10)"
      ],
      "execution_count": 57,
      "outputs": []
    },
    {
      "cell_type": "code",
      "metadata": {
        "colab": {
          "base_uri": "https://localhost:8080/"
        },
        "id": "zaYkre66EgN8",
        "outputId": "b9880225-c470-4c9f-add6-75994689f5b6"
      },
      "source": [
        "from sklearn.ensemble import RandomForestClassifier\n",
        "from sklearn.metrics import accuracy_score\n",
        "\n",
        "model_RF = RandomForestClassifier(n_estimators=50,\n",
        "                                    criterion='gini',\n",
        "                                    max_depth=None,\n",
        "                                    min_samples_split=2,\n",
        "                                    min_samples_leaf=1,\n",
        "                                    min_weight_fraction_leaf=0.0,\n",
        "                                    max_features='auto',\n",
        "                                    max_leaf_nodes=None,\n",
        "                                    min_impurity_decrease=0.0,\n",
        "                                    min_impurity_split=None,\n",
        "                                    bootstrap=True,\n",
        "                                    oob_score=False,\n",
        "                                    n_jobs=None,\n",
        "                                    random_state=None,\n",
        "                                    verbose=0,\n",
        "                                    ccp_alpha=0.0)\n",
        "model_RF.fit(X_train_part2, y_train_part2)"
      ],
      "execution_count": 58,
      "outputs": [
        {
          "output_type": "execute_result",
          "data": {
            "text/plain": [
              "RandomForestClassifier(bootstrap=True, ccp_alpha=0.0, class_weight=None,\n",
              "                       criterion='gini', max_depth=None, max_features='auto',\n",
              "                       max_leaf_nodes=None, max_samples=None,\n",
              "                       min_impurity_decrease=0.0, min_impurity_split=None,\n",
              "                       min_samples_leaf=1, min_samples_split=2,\n",
              "                       min_weight_fraction_leaf=0.0, n_estimators=50,\n",
              "                       n_jobs=None, oob_score=False, random_state=None,\n",
              "                       verbose=0, warm_start=False)"
            ]
          },
          "metadata": {
            "tags": []
          },
          "execution_count": 58
        }
      ]
    },
    {
      "cell_type": "code",
      "metadata": {
        "id": "CAmc97xXExo2"
      },
      "source": [
        "def bag_of_words(s, words):\n",
        "    bag = [0 for i in range(len(words))]\n",
        "\n",
        "    s_words = nltk.word_tokenize(s)\n",
        "    s_words = [stemmer.stem(word.lower()) for word in s_words]\n",
        "\n",
        "    for se in s_words:\n",
        "        for i, w in enumerate(words):\n",
        "            if w == se:\n",
        "                bag[i] = 1\n",
        "            \n",
        "    return np.array(bag)"
      ],
      "execution_count": 59,
      "outputs": []
    },
    {
      "cell_type": "code",
      "metadata": {
        "id": "zUrfzf-fFBvF"
      },
      "source": [
        "def chat():\n",
        "    print(\"type: bye to quit\")\n",
        "    while True:\n",
        "        inp = input(\"\\n\\nYou: \")\n",
        "        if inp.lower()==\"*\":\n",
        "            print(\"BOT: Sorry! I don't understand you.\")\n",
        "        if inp.lower() == \"bye\":\n",
        "            break\n",
        "\n",
        "        results = model_RF.predict([bag_of_words(inp, tokens)])\n",
        "        results_index = numpy.argmax(results)\n",
        "        tag = labels[results_index]\n",
        "\n",
        "        for tg in Corpus[\"intents\"]:\n",
        "            if tg['tag'] == tag:\n",
        "                responses = tg['responses']\n",
        "\n",
        "        print(random.choice(responses))"
      ],
      "execution_count": 62,
      "outputs": []
    },
    {
      "cell_type": "code",
      "metadata": {
        "colab": {
          "base_uri": "https://localhost:8080/"
        },
        "id": "wvreLfgUFWUQ",
        "outputId": "49cad78f-2f79-4230-917c-24c399673768"
      },
      "source": [
        "chat()"
      ],
      "execution_count": 63,
      "outputs": [
        {
          "output_type": "stream",
          "text": [
            "type: bye to quit\n",
            "\n",
            "\n",
            "You: hey\n",
            "Hello! how can i help you ?\n",
            "\n",
            "\n",
            "You: olympus\n",
            "Link: Machine Learning wiki \n",
            "\n",
            "\n",
            "You: greta learning\n",
            "Link: Machine Learning wiki \n",
            "\n",
            "\n",
            "You: bye\n"
          ],
          "name": "stdout"
        }
      ]
    },
    {
      "cell_type": "code",
      "metadata": {
        "id": "rBQB_LS4FXPa"
      },
      "source": [
        ""
      ],
      "execution_count": null,
      "outputs": []
    }
  ]
}